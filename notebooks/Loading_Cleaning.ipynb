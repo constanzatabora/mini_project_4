{
 "cells": [
  {
   "cell_type": "markdown",
   "id": "d1797191-e90d-48ae-b12e-175bcffdedfa",
   "metadata": {},
   "source": [
    "# Loading the dataset chosen and cleaning it\n",
    "For this project we decided to analyse a dataset on movies, that can be found in this link: https://www.kaggle.com/datasets/asaniczka/tmdb-movies-dataset-2023-930k-movies  \n",
    "It is being updated daily and has over 1 million rows, so it was important to clean and filter it properly before proceeding with the rest of the project."
   ]
  },
  {
   "cell_type": "code",
   "execution_count": null,
   "id": "981ea881-bc4b-4fd3-a870-c0a746be9baa",
   "metadata": {},
   "outputs": [],
   "source": [
    "import pandas as pd\n",
    "import numpy as np"
   ]
  },
  {
   "cell_type": "code",
   "execution_count": null,
   "id": "7f04d18e-2b72-46ae-b877-d69ae6d4e02c",
   "metadata": {
    "scrolled": true
   },
   "outputs": [],
   "source": [
    "df = pd.read_csv('../data/raw/TMDB_movie_dataset_v11.csv')\n",
    "df"
   ]
  },
  {
   "cell_type": "code",
   "execution_count": null,
   "id": "a25400ee-cce9-45cb-b52e-2d2db202b94a",
   "metadata": {},
   "outputs": [],
   "source": [
    "df.isna().sum()"
   ]
  },
  {
   "cell_type": "markdown",
   "id": "8a5d16e9-0885-4e39-8a9e-db0c50e81c1c",
   "metadata": {},
   "source": [
    "#### After checking the amount of missing values in most columns, we decided to start filtering the dataframe and reduce the number of columns that would be useless to our analysis."
   ]
  },
  {
   "cell_type": "code",
   "execution_count": null,
   "id": "e99ffa23-f4f9-4119-a1d2-20273a32e96e",
   "metadata": {},
   "outputs": [],
   "source": [
    "df['release_date'] = pd.to_datetime(df['release_date'], errors='coerce')\n",
    "\n",
    "filtered_df = df[df['release_date'] >= '2004-01-01'] # keeping only the movies from the past 20 years\n",
    "filtered_df.shape"
   ]
  },
  {
   "cell_type": "code",
   "execution_count": null,
   "id": "9dbd1f34-147b-4a6a-85e0-63b64eb90ad2",
   "metadata": {},
   "outputs": [],
   "source": [
    "filtered_df = filtered_df.drop(columns=['homepage', 'backdrop_path', 'imdb_id',\n",
    "                                       'poster_path', 'id', 'overview', 'tagline',\n",
    "                                       'original_title', 'vote_count',\n",
    "                                       'spoken_languages', 'popularity',\n",
    "                                       'production_companies', 'original_language',\n",
    "                                       'production_countries', 'keywords'])"
   ]
  },
  {
   "cell_type": "code",
   "execution_count": null,
   "id": "4703790d-f343-4c6e-a958-4a0185830069",
   "metadata": {},
   "outputs": [],
   "source": [
    "filtered_df = filtered_df[(filtered_df['revenue'] != 0)]"
   ]
  },
  {
   "cell_type": "code",
   "execution_count": null,
   "id": "e06ce3b7-5c77-4dce-97d1-0cf0a0233595",
   "metadata": {},
   "outputs": [],
   "source": [
    "filtered_df.shape"
   ]
  },
  {
   "cell_type": "code",
   "execution_count": null,
   "id": "88769fa0-4371-486f-b0bd-095f895a100c",
   "metadata": {},
   "outputs": [],
   "source": [
    "filtered_df.isna().sum()"
   ]
  },
  {
   "cell_type": "code",
   "execution_count": null,
   "id": "9c5ef7d3-bae3-4232-a28d-368b26daa93f",
   "metadata": {},
   "outputs": [],
   "source": [
    "clean_movies = filtered_df.dropna()"
   ]
  },
  {
   "cell_type": "code",
   "execution_count": null,
   "id": "61e45c34-3569-432c-99bc-6bc34bdcaa8c",
   "metadata": {},
   "outputs": [],
   "source": [
    "clean_movies.shape"
   ]
  },
  {
   "cell_type": "markdown",
   "id": "ac48edd8-17e1-4c87-8cdf-fc10c3b49ef2",
   "metadata": {},
   "source": [
    "####  Sorting the dataframe by the revenue, so that the best sellers are on top"
   ]
  },
  {
   "cell_type": "code",
   "execution_count": null,
   "id": "e10ad5e2-9e0e-43c5-9053-45d9988ffca1",
   "metadata": {},
   "outputs": [],
   "source": [
    "clean_movies = clean_movies.sort_values(by = 'revenue', ascending=False)\n",
    "clean_movies.head()"
   ]
  },
  {
   "cell_type": "markdown",
   "id": "759f4d3d-aff3-467e-8b3d-d2e6084138b6",
   "metadata": {},
   "source": [
    "#### Further cleaning and taking care of the most obvious outliers"
   ]
  },
  {
   "cell_type": "code",
   "execution_count": null,
   "id": "f6ea6d51-1a59-4bcc-86f7-83a1ba7e0a43",
   "metadata": {},
   "outputs": [],
   "source": [
    "clean_movies = clean_movies[clean_movies['status'] == 'Released']\n",
    "clean_movies = clean_movies[clean_movies['revenue'] >= 1000]\n",
    "clean_movies = clean_movies[clean_movies['runtime'] >= 30]\n",
    "clean_movies = clean_movies[clean_movies['budget'] >= 1]\n",
    "clean_movies = clean_movies.drop(columns = ['status'])\n",
    "clean_movies"
   ]
  },
  {
   "cell_type": "code",
   "execution_count": null,
   "id": "1291bb42-5577-4b0d-9221-9a3ac8bee05e",
   "metadata": {},
   "outputs": [],
   "source": [
    "# Dropping the row where the title is \"TikTok Rizz Party\" because it seems to be wrong\n",
    "clean_movies = clean_movies[clean_movies['title'] != \"TikTok Rizz Party\"]\n",
    "clean_movies"
   ]
  },
  {
   "cell_type": "markdown",
   "id": "8ea599f6-1d4b-41ef-9ede-70369234e0cd",
   "metadata": {},
   "source": [
    "## Export the clean dataset"
   ]
  },
  {
   "cell_type": "code",
   "execution_count": null,
   "id": "b3ce40eb-e5b8-4187-bcf5-617928c156bd",
   "metadata": {},
   "outputs": [],
   "source": [
    "clean_movies.to_csv('clean_movies.csv')"
   ]
  }
 ],
 "metadata": {
  "kernelspec": {
   "display_name": "venv",
   "language": "python",
   "name": "venv"
  },
  "language_info": {
   "codemirror_mode": {
    "name": "ipython",
    "version": 3
   },
   "file_extension": ".py",
   "mimetype": "text/x-python",
   "name": "python",
   "nbconvert_exporter": "python",
   "pygments_lexer": "ipython3",
   "version": "3.11.7"
  }
 },
 "nbformat": 4,
 "nbformat_minor": 5
}
